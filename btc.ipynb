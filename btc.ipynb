{
 "cells": [
  {
   "cell_type": "markdown",
   "metadata": {},
   "source": [
    "# importe e criação da base"
   ]
  },
  {
   "cell_type": "code",
   "execution_count": 18,
   "metadata": {},
   "outputs": [],
   "source": [
    "import pandas as pd\n",
    "import matplotlib.pyplot as plt\n",
    "import numpy as np\n",
    "\n",
    "from sklearn.linear_model import LogisticRegression\n",
    "\n",
    "from ta import volatility, volume, trend, momentum\n",
    "from sklearn.metrics import r2_score, accuracy_score, balanced_accuracy_score, confusion_matrix, precision_score\n",
    "\n",
    "from sklearn.decomposition import PCA\n",
    "\n",
    "from sklearn.neural_network import MLPClassifier\n",
    "\n",
    "from invest import Invest\n",
    "\n",
    "from sklearn.feature_selection import SelectKBest\n",
    "\n",
    "\n",
    "df = pd.read_csv('bitcoinData.csv', index_col=0)\n",
    "\n",
    "\n",
    "\n",
    "\n"
   ]
  },
  {
   "cell_type": "code",
   "execution_count": 19,
   "metadata": {},
   "outputs": [
    {
     "data": {
      "text/html": [
       "<div>\n",
       "<style scoped>\n",
       "    .dataframe tbody tr th:only-of-type {\n",
       "        vertical-align: middle;\n",
       "    }\n",
       "\n",
       "    .dataframe tbody tr th {\n",
       "        vertical-align: top;\n",
       "    }\n",
       "\n",
       "    .dataframe thead th {\n",
       "        text-align: right;\n",
       "    }\n",
       "</style>\n",
       "<table border=\"1\" class=\"dataframe\">\n",
       "  <thead>\n",
       "    <tr style=\"text-align: right;\">\n",
       "      <th></th>\n",
       "      <th>Open</th>\n",
       "      <th>High</th>\n",
       "      <th>Low</th>\n",
       "      <th>Close</th>\n",
       "      <th>Volume</th>\n",
       "    </tr>\n",
       "    <tr>\n",
       "      <th>Open time</th>\n",
       "      <th></th>\n",
       "      <th></th>\n",
       "      <th></th>\n",
       "      <th></th>\n",
       "      <th></th>\n",
       "    </tr>\n",
       "  </thead>\n",
       "  <tbody>\n",
       "    <tr>\n",
       "      <th>2017-12-01 00:00:00</th>\n",
       "      <td>9837.00</td>\n",
       "      <td>9900.03</td>\n",
       "      <td>9712.00</td>\n",
       "      <td>9894.96</td>\n",
       "      <td>56.349847</td>\n",
       "    </tr>\n",
       "    <tr>\n",
       "      <th>2017-12-01 00:15:00</th>\n",
       "      <td>9894.89</td>\n",
       "      <td>9894.89</td>\n",
       "      <td>9799.00</td>\n",
       "      <td>9800.00</td>\n",
       "      <td>79.466001</td>\n",
       "    </tr>\n",
       "    <tr>\n",
       "      <th>2017-12-01 00:30:00</th>\n",
       "      <td>9800.00</td>\n",
       "      <td>9879.95</td>\n",
       "      <td>9741.13</td>\n",
       "      <td>9800.03</td>\n",
       "      <td>49.589463</td>\n",
       "    </tr>\n",
       "    <tr>\n",
       "      <th>2017-12-01 00:45:00</th>\n",
       "      <td>9784.99</td>\n",
       "      <td>9785.00</td>\n",
       "      <td>9600.00</td>\n",
       "      <td>9685.00</td>\n",
       "      <td>90.568676</td>\n",
       "    </tr>\n",
       "    <tr>\n",
       "      <th>2017-12-01 01:00:00</th>\n",
       "      <td>9685.02</td>\n",
       "      <td>9689.99</td>\n",
       "      <td>9550.00</td>\n",
       "      <td>9617.99</td>\n",
       "      <td>77.231866</td>\n",
       "    </tr>\n",
       "  </tbody>\n",
       "</table>\n",
       "</div>"
      ],
      "text/plain": [
       "                        Open     High      Low    Close     Volume\n",
       "Open time                                                         \n",
       "2017-12-01 00:00:00  9837.00  9900.03  9712.00  9894.96  56.349847\n",
       "2017-12-01 00:15:00  9894.89  9894.89  9799.00  9800.00  79.466001\n",
       "2017-12-01 00:30:00  9800.00  9879.95  9741.13  9800.03  49.589463\n",
       "2017-12-01 00:45:00  9784.99  9785.00  9600.00  9685.00  90.568676\n",
       "2017-12-01 01:00:00  9685.02  9689.99  9550.00  9617.99  77.231866"
      ]
     },
     "execution_count": 19,
     "metadata": {},
     "output_type": "execute_result"
    }
   ],
   "source": [
    "## filtra as 6 primeira colunas, até a colua Volume\n",
    "df1 = df.iloc[:, :6].set_index('Open time')\n",
    "# invest = Invest(df1)\n",
    "\n",
    "# invest.medias_moveis([5, 10, 15, 20])\n",
    "\n",
    "# medias = invest.medias\n",
    "\n",
    "# df1 = df1[df1.index < '2022-01-01']\n",
    "\n",
    "df1.head(5)"
   ]
  },
  {
   "cell_type": "markdown",
   "metadata": {},
   "source": [
    "# alvo"
   ]
  },
  {
   "cell_type": "code",
   "execution_count": 20,
   "metadata": {},
   "outputs": [
    {
     "data": {
      "text/html": [
       "<div>\n",
       "<style scoped>\n",
       "    .dataframe tbody tr th:only-of-type {\n",
       "        vertical-align: middle;\n",
       "    }\n",
       "\n",
       "    .dataframe tbody tr th {\n",
       "        vertical-align: top;\n",
       "    }\n",
       "\n",
       "    .dataframe thead th {\n",
       "        text-align: right;\n",
       "    }\n",
       "</style>\n",
       "<table border=\"1\" class=\"dataframe\">\n",
       "  <thead>\n",
       "    <tr style=\"text-align: right;\">\n",
       "      <th></th>\n",
       "      <th>Open</th>\n",
       "      <th>High</th>\n",
       "      <th>Low</th>\n",
       "      <th>Close</th>\n",
       "      <th>Volume</th>\n",
       "      <th>candle_dir</th>\n",
       "      <th>alvo_continuo</th>\n",
       "      <th>alvo_binario</th>\n",
       "    </tr>\n",
       "    <tr>\n",
       "      <th>Open time</th>\n",
       "      <th></th>\n",
       "      <th></th>\n",
       "      <th></th>\n",
       "      <th></th>\n",
       "      <th></th>\n",
       "      <th></th>\n",
       "      <th></th>\n",
       "      <th></th>\n",
       "    </tr>\n",
       "  </thead>\n",
       "  <tbody>\n",
       "    <tr>\n",
       "      <th>2023-09-15 23:00:00</th>\n",
       "      <td>26776.32</td>\n",
       "      <td>26888.00</td>\n",
       "      <td>26752.60</td>\n",
       "      <td>26752.60</td>\n",
       "      <td>882.84481</td>\n",
       "      <td>-0.000886</td>\n",
       "      <td>-0.002911</td>\n",
       "      <td>-1</td>\n",
       "    </tr>\n",
       "    <tr>\n",
       "      <th>2023-09-15 23:15:00</th>\n",
       "      <td>26752.60</td>\n",
       "      <td>26760.99</td>\n",
       "      <td>26671.03</td>\n",
       "      <td>26674.72</td>\n",
       "      <td>343.61925</td>\n",
       "      <td>-0.002911</td>\n",
       "      <td>-0.000301</td>\n",
       "      <td>0</td>\n",
       "    </tr>\n",
       "    <tr>\n",
       "      <th>2023-09-15 23:30:00</th>\n",
       "      <td>26674.71</td>\n",
       "      <td>26724.17</td>\n",
       "      <td>26666.66</td>\n",
       "      <td>26666.67</td>\n",
       "      <td>311.27685</td>\n",
       "      <td>-0.000301</td>\n",
       "      <td>-0.002500</td>\n",
       "      <td>-1</td>\n",
       "    </tr>\n",
       "    <tr>\n",
       "      <th>2023-09-15 23:45:00</th>\n",
       "      <td>26666.66</td>\n",
       "      <td>26669.98</td>\n",
       "      <td>26591.73</td>\n",
       "      <td>26600.00</td>\n",
       "      <td>326.49725</td>\n",
       "      <td>-0.002500</td>\n",
       "      <td>0.000379</td>\n",
       "      <td>0</td>\n",
       "    </tr>\n",
       "    <tr>\n",
       "      <th>2023-09-16 00:00:00</th>\n",
       "      <td>26599.99</td>\n",
       "      <td>26643.82</td>\n",
       "      <td>26571.42</td>\n",
       "      <td>26610.07</td>\n",
       "      <td>458.77691</td>\n",
       "      <td>0.000379</td>\n",
       "      <td>NaN</td>\n",
       "      <td>0</td>\n",
       "    </tr>\n",
       "  </tbody>\n",
       "</table>\n",
       "</div>"
      ],
      "text/plain": [
       "                         Open      High       Low     Close     Volume  \\\n",
       "Open time                                                                \n",
       "2023-09-15 23:00:00  26776.32  26888.00  26752.60  26752.60  882.84481   \n",
       "2023-09-15 23:15:00  26752.60  26760.99  26671.03  26674.72  343.61925   \n",
       "2023-09-15 23:30:00  26674.71  26724.17  26666.66  26666.67  311.27685   \n",
       "2023-09-15 23:45:00  26666.66  26669.98  26591.73  26600.00  326.49725   \n",
       "2023-09-16 00:00:00  26599.99  26643.82  26571.42  26610.07  458.77691   \n",
       "\n",
       "                     candle_dir  alvo_continuo  alvo_binario  \n",
       "Open time                                                     \n",
       "2023-09-15 23:00:00   -0.000886      -0.002911            -1  \n",
       "2023-09-15 23:15:00   -0.002911      -0.000301             0  \n",
       "2023-09-15 23:30:00   -0.000301      -0.002500            -1  \n",
       "2023-09-15 23:45:00   -0.002500       0.000379             0  \n",
       "2023-09-16 00:00:00    0.000379            NaN             0  "
      ]
     },
     "execution_count": 20,
     "metadata": {},
     "output_type": "execute_result"
    }
   ],
   "source": [
    "## direção do candle\n",
    "df1['candle_dir'] = (df1['Close'] - df1['Open']) / df1['Open']\n",
    "\n",
    "# descola o valor atual para o futuro, nosso alvo continue\n",
    "df1['alvo_continuo'] = df1['candle_dir'].shift(-1)\n",
    "\n",
    "## thresh_holds\n",
    "buy_thresh = (0.1 / 100) # \n",
    "sell_thresh = -(0.1 / 100) # \n",
    "\n",
    "# definição do alvo continuo\n",
    "df1['alvo_binario'] = np.where(df1['alvo_continuo'] >  buy_thresh, 1, 0)\n",
    "df1['alvo_binario'] = np.where(df1['alvo_continuo'] <  sell_thresh, -1, df1['alvo_binario'])\n",
    "\n",
    "\n",
    "\n",
    "df1.tail(5)"
   ]
  },
  {
   "cell_type": "code",
   "execution_count": 21,
   "metadata": {},
   "outputs": [
    {
     "data": {
      "text/html": [
       "<div>\n",
       "<style scoped>\n",
       "    .dataframe tbody tr th:only-of-type {\n",
       "        vertical-align: middle;\n",
       "    }\n",
       "\n",
       "    .dataframe tbody tr th {\n",
       "        vertical-align: top;\n",
       "    }\n",
       "\n",
       "    .dataframe thead th {\n",
       "        text-align: right;\n",
       "    }\n",
       "</style>\n",
       "<table border=\"1\" class=\"dataframe\">\n",
       "  <thead>\n",
       "    <tr style=\"text-align: right;\">\n",
       "      <th></th>\n",
       "      <th>Open</th>\n",
       "      <th>High</th>\n",
       "      <th>Low</th>\n",
       "      <th>Close</th>\n",
       "      <th>Volume</th>\n",
       "      <th>candle_dir</th>\n",
       "      <th>alvo_continuo</th>\n",
       "      <th>alvo_binario</th>\n",
       "    </tr>\n",
       "    <tr>\n",
       "      <th>Open time</th>\n",
       "      <th></th>\n",
       "      <th></th>\n",
       "      <th></th>\n",
       "      <th></th>\n",
       "      <th></th>\n",
       "      <th></th>\n",
       "      <th></th>\n",
       "      <th></th>\n",
       "    </tr>\n",
       "  </thead>\n",
       "  <tbody>\n",
       "    <tr>\n",
       "      <th>2023-09-15 21:45:00</th>\n",
       "      <td>26454.79</td>\n",
       "      <td>26480.85</td>\n",
       "      <td>26454.79</td>\n",
       "      <td>26469.14</td>\n",
       "      <td>86.19933</td>\n",
       "      <td>0.000542</td>\n",
       "      <td>0.000695</td>\n",
       "      <td>0</td>\n",
       "    </tr>\n",
       "    <tr>\n",
       "      <th>2023-09-15 22:00:00</th>\n",
       "      <td>26469.14</td>\n",
       "      <td>26494.80</td>\n",
       "      <td>26469.13</td>\n",
       "      <td>26487.53</td>\n",
       "      <td>157.29776</td>\n",
       "      <td>0.000695</td>\n",
       "      <td>0.000608</td>\n",
       "      <td>0</td>\n",
       "    </tr>\n",
       "    <tr>\n",
       "      <th>2023-09-15 22:15:00</th>\n",
       "      <td>26487.52</td>\n",
       "      <td>26507.19</td>\n",
       "      <td>26487.52</td>\n",
       "      <td>26503.63</td>\n",
       "      <td>139.44983</td>\n",
       "      <td>0.000608</td>\n",
       "      <td>0.007879</td>\n",
       "      <td>1</td>\n",
       "    </tr>\n",
       "    <tr>\n",
       "      <th>2023-09-15 22:30:00</th>\n",
       "      <td>26503.62</td>\n",
       "      <td>26770.00</td>\n",
       "      <td>26503.62</td>\n",
       "      <td>26712.43</td>\n",
       "      <td>1131.78014</td>\n",
       "      <td>0.007879</td>\n",
       "      <td>0.002391</td>\n",
       "      <td>1</td>\n",
       "    </tr>\n",
       "    <tr>\n",
       "      <th>2023-09-15 22:45:00</th>\n",
       "      <td>26712.43</td>\n",
       "      <td>26847.72</td>\n",
       "      <td>26684.87</td>\n",
       "      <td>26776.31</td>\n",
       "      <td>1034.61622</td>\n",
       "      <td>0.002391</td>\n",
       "      <td>-0.000886</td>\n",
       "      <td>0</td>\n",
       "    </tr>\n",
       "    <tr>\n",
       "      <th>2023-09-15 23:00:00</th>\n",
       "      <td>26776.32</td>\n",
       "      <td>26888.00</td>\n",
       "      <td>26752.60</td>\n",
       "      <td>26752.60</td>\n",
       "      <td>882.84481</td>\n",
       "      <td>-0.000886</td>\n",
       "      <td>-0.002911</td>\n",
       "      <td>-1</td>\n",
       "    </tr>\n",
       "    <tr>\n",
       "      <th>2023-09-15 23:15:00</th>\n",
       "      <td>26752.60</td>\n",
       "      <td>26760.99</td>\n",
       "      <td>26671.03</td>\n",
       "      <td>26674.72</td>\n",
       "      <td>343.61925</td>\n",
       "      <td>-0.002911</td>\n",
       "      <td>-0.000301</td>\n",
       "      <td>0</td>\n",
       "    </tr>\n",
       "    <tr>\n",
       "      <th>2023-09-15 23:30:00</th>\n",
       "      <td>26674.71</td>\n",
       "      <td>26724.17</td>\n",
       "      <td>26666.66</td>\n",
       "      <td>26666.67</td>\n",
       "      <td>311.27685</td>\n",
       "      <td>-0.000301</td>\n",
       "      <td>-0.002500</td>\n",
       "      <td>-1</td>\n",
       "    </tr>\n",
       "    <tr>\n",
       "      <th>2023-09-15 23:45:00</th>\n",
       "      <td>26666.66</td>\n",
       "      <td>26669.98</td>\n",
       "      <td>26591.73</td>\n",
       "      <td>26600.00</td>\n",
       "      <td>326.49725</td>\n",
       "      <td>-0.002500</td>\n",
       "      <td>0.000379</td>\n",
       "      <td>0</td>\n",
       "    </tr>\n",
       "    <tr>\n",
       "      <th>2023-09-16 00:00:00</th>\n",
       "      <td>26599.99</td>\n",
       "      <td>26643.82</td>\n",
       "      <td>26571.42</td>\n",
       "      <td>26610.07</td>\n",
       "      <td>458.77691</td>\n",
       "      <td>0.000379</td>\n",
       "      <td>NaN</td>\n",
       "      <td>0</td>\n",
       "    </tr>\n",
       "  </tbody>\n",
       "</table>\n",
       "</div>"
      ],
      "text/plain": [
       "                         Open      High       Low     Close      Volume  \\\n",
       "Open time                                                                 \n",
       "2023-09-15 21:45:00  26454.79  26480.85  26454.79  26469.14    86.19933   \n",
       "2023-09-15 22:00:00  26469.14  26494.80  26469.13  26487.53   157.29776   \n",
       "2023-09-15 22:15:00  26487.52  26507.19  26487.52  26503.63   139.44983   \n",
       "2023-09-15 22:30:00  26503.62  26770.00  26503.62  26712.43  1131.78014   \n",
       "2023-09-15 22:45:00  26712.43  26847.72  26684.87  26776.31  1034.61622   \n",
       "2023-09-15 23:00:00  26776.32  26888.00  26752.60  26752.60   882.84481   \n",
       "2023-09-15 23:15:00  26752.60  26760.99  26671.03  26674.72   343.61925   \n",
       "2023-09-15 23:30:00  26674.71  26724.17  26666.66  26666.67   311.27685   \n",
       "2023-09-15 23:45:00  26666.66  26669.98  26591.73  26600.00   326.49725   \n",
       "2023-09-16 00:00:00  26599.99  26643.82  26571.42  26610.07   458.77691   \n",
       "\n",
       "                     candle_dir  alvo_continuo  alvo_binario  \n",
       "Open time                                                     \n",
       "2023-09-15 21:45:00    0.000542       0.000695             0  \n",
       "2023-09-15 22:00:00    0.000695       0.000608             0  \n",
       "2023-09-15 22:15:00    0.000608       0.007879             1  \n",
       "2023-09-15 22:30:00    0.007879       0.002391             1  \n",
       "2023-09-15 22:45:00    0.002391      -0.000886             0  \n",
       "2023-09-15 23:00:00   -0.000886      -0.002911            -1  \n",
       "2023-09-15 23:15:00   -0.002911      -0.000301             0  \n",
       "2023-09-15 23:30:00   -0.000301      -0.002500            -1  \n",
       "2023-09-15 23:45:00   -0.002500       0.000379             0  \n",
       "2023-09-16 00:00:00    0.000379            NaN             0  "
      ]
     },
     "execution_count": 21,
     "metadata": {},
     "output_type": "execute_result"
    }
   ],
   "source": [
    "df1.tail(10)"
   ]
  },
  {
   "cell_type": "markdown",
   "metadata": {},
   "source": [
    "# variaveis\n"
   ]
  },
  {
   "cell_type": "code",
   "execution_count": 22,
   "metadata": {},
   "outputs": [],
   "source": [
    "## variaveis de volatidade\n",
    "\n",
    "\n",
    "retorno = df1['Close'].pct_change()\n",
    "\n",
    "volatidade_10 = retorno.rolling(10).std() \n",
    "rank_vol = volatidade_10.rolling(10).rank()\n",
    "\n",
    "## pega o avarage true range e dividade pelo close\n",
    "atr = volatility.average_true_range(df1['High'], df1['Low'], df1['Close'], window=10) / df1['Close']\n",
    "\n",
    "bbw = volatility.bollinger_wband(df1['Close'], window=10)\n",
    "\n",
    "\n",
    "drawdown1 = (df1['Close'].cummax() - df1['Close']) / df1['Close'].cummax()\n",
    "\n",
    "drawdown2 = drawdown1.rolling(10).max()\n",
    "\n",
    "drawdown_rev = (df1['Close'] - df1['Close'].cummin()) / df1['Close']\n",
    "drawdown_rev2 = drawdown_rev.rolling(10).max()\n"
   ]
  },
  {
   "cell_type": "code",
   "execution_count": 23,
   "metadata": {},
   "outputs": [],
   "source": [
    "## variaveis de momentum\n",
    "\n",
    "rsi = momentum.rsi(df1['Close'], window=10)\n",
    "tsi = momentum.tsi(df1['Close'], window_slow=10, window_fast=5)\n",
    "\n",
    "stoch = momentum.stoch(df1['High'], df1['Low'], df1['Close'])\n",
    "\n",
    "sma5 = df1['Close'].rolling(5).mean()\n",
    "\n",
    "rsl = sma5 / df1['Close']"
   ]
  },
  {
   "cell_type": "code",
   "execution_count": 24,
   "metadata": {},
   "outputs": [],
   "source": [
    "## variaveis e volume\n",
    "\n",
    "obv = volume.on_balance_volume(df1['Close'], volume=df1['Volume'])\n",
    "acc_index = volume.acc_dist_index(df1['High'], df1['Low'], df1['Close'], volume=df1['Volume'])"
   ]
  },
  {
   "cell_type": "code",
   "execution_count": 25,
   "metadata": {},
   "outputs": [
    {
     "name": "stderr",
     "output_type": "stream",
     "text": [
      "c:\\Users\\mathe\\AppData\\Local\\Programs\\Python\\Python310\\lib\\site-packages\\ta\\trend.py:769: RuntimeWarning: invalid value encountered in double_scalars\n",
      "  dip[idx] = 100 * (self._dip[idx] / value)\n",
      "c:\\Users\\mathe\\AppData\\Local\\Programs\\Python\\Python310\\lib\\site-packages\\ta\\trend.py:774: RuntimeWarning: invalid value encountered in double_scalars\n",
      "  din[idx] = 100 * (self._din[idx] / value)\n"
     ]
    }
   ],
   "source": [
    "## variaveis de trend\n",
    "\n",
    "macd = trend.macd(df1['Close'], window_fast=6, window_slow=10) / df1['Close']\n",
    "adx = trend.adx(df1['High'], df1['Low'], df1['Close'], window=10)\n",
    "cci = trend.cci(df1['High'], df1['Low'], df1['Close'], window=10)"
   ]
  },
  {
   "cell_type": "code",
   "execution_count": 26,
   "metadata": {},
   "outputs": [],
   "source": [
    "## variaveis de \"padrão de candlestick\"\n",
    "força = (df1['High'] - df1['Low']) / (df1['Close'] - df1['Open'] + 0.0001)"
   ]
  },
  {
   "cell_type": "code",
   "execution_count": 27,
   "metadata": {},
   "outputs": [],
   "source": [
    "MAD = lambda x: ((x - x.mean()).abs()).mean()\n",
    "    \n",
    "\n",
    "## variaveis estatisticas\n",
    "\n",
    "skew = retorno.rolling(10).skew()\n",
    "kurt = retorno.rolling(10).kurt()\n",
    "std = retorno.rolling(10).std()\n",
    "mad = retorno.rolling(10).apply(MAD)\n",
    "zscore = (retorno - retorno.rolling(10).mean()) / std\n",
    "fat_tail = mad / std"
   ]
  },
  {
   "cell_type": "code",
   "execution_count": 28,
   "metadata": {},
   "outputs": [],
   "source": [
    "## variaveis misturadas\n",
    "\n",
    "adx_sma_bull = np.where((adx > 50) & (rsl > 1.01), 1, 0)\n",
    "adx_sma_bear = np.where((adx > 50) & (rsl < 0.99), 1, 0)\n",
    "\n",
    "adx_skew_bull = np.where((adx > 50) & (skew > 0.5), 1, 0)\n",
    "adx_skew_bear = np.where((adx > 50) & (skew < -0.5), 1, 0)\n",
    "\n",
    "skew_kurt = np.where((kurt > 3) & (skew > 0.5), 1, 0)\n"
   ]
  },
  {
   "cell_type": "markdown",
   "metadata": {},
   "source": [
    "# seleção das variaveis (manual)"
   ]
  },
  {
   "cell_type": "code",
   "execution_count": 29,
   "metadata": {},
   "outputs": [],
   "source": [
    "## volatilidade\n",
    "df1['vol'] = volatidade_10\n",
    "df1['rank_vol'] = rank_vol\n",
    "df1['atr'] = atr\n",
    "df1['bbw'] = bbw\n",
    "df1['drawdown1'] = drawdown1\n",
    "df1['drawdown2'] = drawdown2\n",
    "df1['dradown_rev'] = drawdown_rev\n",
    "df1['dradown_rev2'] = drawdown_rev2\n",
    "\n",
    "## momentum\n",
    "df1['rsi'] = rsi\n",
    "df1['tsi'] = tsi\n",
    "df1['stoch'] = stoch\n",
    "df1['rsl'] = rsl\n",
    "\n",
    "## trend\n",
    "df1['adx'] = adx\n",
    "df1['MACD'] = macd\n",
    "\n",
    "## volume\n",
    "df1['obv'] = obv\n",
    "df1['acc_index'] = acc_index\n",
    "\n",
    "## candlestick\n",
    "df1['força'] = força\n",
    "\n",
    "## estatistica\n",
    "df1['mad'] = mad\n",
    "df1['zscore'] = zscore\n",
    "\n",
    "## mituradas\n",
    "df1['adx_sma_bull'] = adx_sma_bull\n",
    "df1['adx_sma_bear'] = adx_sma_bear\n",
    "df1['adx_skew_bull'] = adx_skew_bull\n",
    "df1['adx_skew_bear'] = adx_skew_bear\n",
    "df1['skew_kurt'] = skew_kurt\n",
    "\n",
    "\n",
    "df1 = df1.dropna()"
   ]
  },
  {
   "cell_type": "markdown",
   "metadata": {},
   "source": [
    "# separar em treino / teste"
   ]
  },
  {
   "cell_type": "code",
   "execution_count": 30,
   "metadata": {},
   "outputs": [],
   "source": [
    "df_x = df1.drop(['alvo_continuo', 'alvo_binario'], axis=1)\n",
    "df_y = df1[['alvo_binario']]\n",
    "\n",
    "\n",
    "\n",
    "\n",
    "\n",
    "tamanho_treino = int(df_x.shape[0] * 0.6)\n",
    "\n",
    "\n",
    "df_x_treino = df_x.iloc[:tamanho_treino]\n",
    "df_x_teste = df_x.iloc[tamanho_treino:]\n",
    "\n",
    "\n",
    "df_y_treino = df_y.iloc[:tamanho_treino]\n",
    "df_y_teste = df_y.iloc[tamanho_treino:]\n",
    "\n",
    "\n",
    "\n",
    "\n",
    "df_x_teste = df_x_teste[df_x_teste.index < '2023-01-01']\n",
    "df_y_teste = df_y_teste[df_y_teste.index < '2023-01-01']\n",
    "df_y_cont = df1['alvo_continuo'].iloc[tamanho_treino:]\n",
    "df_y_cont = df_y_cont[df_y_cont.index < '2023-01-01']\n",
    "\n"
   ]
  },
  {
   "cell_type": "markdown",
   "metadata": {},
   "source": [
    "# PCA, Scalling e feature selection"
   ]
  },
  {
   "cell_type": "code",
   "execution_count": 31,
   "metadata": {},
   "outputs": [
    {
     "name": "stderr",
     "output_type": "stream",
     "text": [
      "c:\\Users\\mathe\\AppData\\Local\\Programs\\Python\\Python310\\lib\\site-packages\\sklearn\\utils\\validation.py:1111: DataConversionWarning: A column-vector y was passed when a 1d array was expected. Please change the shape of y to (n_samples, ), for example using ravel().\n",
      "  y = column_or_1d(y, warn=True)\n"
     ]
    }
   ],
   "source": [
    "#PCA\n",
    "pca = PCA()\n",
    "\n",
    "pca.fit(df_x_treino, df_y_treino)\n",
    "\n",
    "df_x_treino = pca.transform(df_x_treino)\n",
    "df_x_teste = pca.transform(df_x_teste)\n",
    "\n",
    "df_y_cont = df1[['alvo_continuo']].iloc[tamanho_treino:]\n",
    "\n",
    "## feature selection\n",
    "numero_feat = int(df_x_treino.shape[1] * (0.5))\n",
    "kbest = SelectKBest(k=numero_feat)\n",
    "\n",
    "kbest.fit(df_x_treino, df_y_treino)\n",
    "\n",
    "\n",
    "df_x_treino = kbest.transform(df_x_treino)\n",
    "df_x_teste = kbest.transform(df_x_teste)\n"
   ]
  },
  {
   "cell_type": "markdown",
   "metadata": {},
   "source": [
    "# treino dos modelos"
   ]
  },
  {
   "cell_type": "code",
   "execution_count": 32,
   "metadata": {},
   "outputs": [
    {
     "name": "stderr",
     "output_type": "stream",
     "text": [
      "c:\\Users\\mathe\\AppData\\Local\\Programs\\Python\\Python310\\lib\\site-packages\\sklearn\\neural_network\\_multilayer_perceptron.py:1118: DataConversionWarning: A column-vector y was passed when a 1d array was expected. Please change the shape of y to (n_samples, ), for example using ravel().\n",
      "  y = column_or_1d(y, warn=True)\n"
     ]
    }
   ],
   "source": [
    "from sklearn.tree import DecisionTreeClassifier\n",
    "\n",
    "# lr = LogisticRegression()\n",
    "# lr = DecisionTreeClassifier(max_depth=15, max_leaf_nodes=10)\n",
    "lr = MLPClassifier(random_state=0)\n",
    "\n",
    "lr.fit(df_x_treino, df_y_treino)\n",
    "\n",
    "pred = lr.predict(df_x_teste)"
   ]
  },
  {
   "cell_type": "markdown",
   "metadata": {},
   "source": [
    "# performace dos modelos e backteste"
   ]
  },
  {
   "cell_type": "code",
   "execution_count": 33,
   "metadata": {},
   "outputs": [
    {
     "data": {
      "text/plain": [
       "-0.16378305999675913"
      ]
     },
     "execution_count": 33,
     "metadata": {},
     "output_type": "execute_result"
    }
   ],
   "source": [
    "\n",
    "r2_score(y_true=df_y_teste, y_pred=pred)"
   ]
  },
  {
   "cell_type": "code",
   "execution_count": 34,
   "metadata": {},
   "outputs": [
    {
     "name": "stdout",
     "output_type": "stream",
     "text": [
      "O maximo drawdown foi de : 38.667441800485676 %\n"
     ]
    },
    {
     "data": {
      "text/plain": [
       "<AxesSubplot:xlabel='Open time'>"
      ]
     },
     "execution_count": 34,
     "metadata": {},
     "output_type": "execute_result"
    },
    {
     "data": {
      "image/png": "[encoded data removed]",
      "text/plain": [
       "<Figure size 432x288 with 1 Axes>"
      ]
     },
     "metadata": {
      "needs_background": "light"
     },
     "output_type": "display_data"
    }
   ],
   "source": [
    "# precision_score(y_true=df_y_teste, y_pred=pred, average='')\n",
    "\n",
    "alavancagem = 1\n",
    "\n",
    "df_y_teste['pred'] = pred\n",
    "df_y_teste['alvo'] = df_y_cont\n",
    "\n",
    "# df_y_teste['pred'] = np.where(pred == 1, 1, 0)\n",
    "\n",
    "teste = ((pred * (df_y_teste['alvo'] * alavancagem)) + 1).cumprod()\n",
    "teste1 = (df_y_cont + 1).cumprod()\n",
    "\n",
    "drawdown = (teste.cummax() - teste) / teste.cummax()\n",
    "\n",
    "print(\"O maximo drawdown foi de :\", (drawdown.max() * 100), \"%\")\n",
    "\n",
    "teste.plot()\n",
    "# teste1.plot()\n"
   ]
  }
 ],
 "metadata": {
  "kernelspec": {
   "display_name": "Python 3",
   "language": "python",
   "name": "python3"
  },
  "language_info": {
   "codemirror_mode": {
    "name": "ipython",
    "version": 3
   },
   "file_extension": ".py",
   "mimetype": "text/x-python",
   "name": "python",
   "nbconvert_exporter": "python",
   "pygments_lexer": "ipython3",
   "version": "3.10.4"
  },
  "orig_nbformat": 4
 },
 "nbformat": 4,
 "nbformat_minor": 2
}
